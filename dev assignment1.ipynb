{
 "cells": [
  {
   "cell_type": "markdown",
   "id": "95fca8ef-8c00-4ff0-8be5-7ffa71fbda33",
   "metadata": {},
   "source": [
    "q1 answer\n"
   ]
  },
  {
   "cell_type": "markdown",
   "id": "42a18184-bb5d-4655-9926-6ad1d3942b97",
   "metadata": {},
   "source": [
    "\"\"\"A for loop is an iteration method that is best used when you know the number of iterations ahead of time.\n",
    "It’s always followed by the initialization, expression and increment statements.\"\"\""
   ]
  },
  {
   "cell_type": "markdown",
   "id": "9531bbf3-2d49-4228-9b62-8351818350a4",
   "metadata": {},
   "source": [
    "\"\"\" A while loop is an iteration method that is best used when you don't know the number of iterations ahead of time\n",
    "The contents of the loop are executed as long as the expression evaluates to true.\"\"\""
   ]
  },
  {
   "cell_type": "code",
   "execution_count": null,
   "id": "779d2f0a-9157-49c0-9edc-528571b0b4e1",
   "metadata": {},
   "outputs": [],
   "source": [
    "# lets print all the character of my name \"devvrat Dubey\"\n",
    "# here i will try by using both loops and what parameters we require while using both the loops"
   ]
  },
  {
   "cell_type": "code",
   "execution_count": 1,
   "id": "bb9e3b69-044d-4130-966b-f6ae76451914",
   "metadata": {},
   "outputs": [
    {
     "name": "stdout",
     "output_type": "stream",
     "text": [
      "d\n",
      "e\n",
      "v\n",
      "v\n",
      "r\n",
      "a\n",
      "t\n",
      " \n",
      "d\n",
      "u\n",
      "b\n",
      "e\n",
      "y\n"
     ]
    }
   ],
   "source": [
    "#for loop\n",
    "myname=\"devvrat dubey\"\n",
    "for i in myname:\n",
    "    print(i)"
   ]
  },
  {
   "cell_type": "code",
   "execution_count": null,
   "id": "a1635e15-0d44-418f-b3e5-5ec236905ab7",
   "metadata": {},
   "outputs": [],
   "source": [
    "# while using for loop we were knowing that we have to go till last character and we have to start with 1st charcter\n",
    "# here you dont need to initialize and give the increment all those are fixed \n"
   ]
  },
  {
   "cell_type": "code",
   "execution_count": null,
   "id": "c721f767-0f91-45c1-a9dc-fe6b6ad8a13e",
   "metadata": {},
   "outputs": [
    {
     "name": "stdout",
     "output_type": "stream",
     "text": [
      "d\n",
      "e\n",
      "v\n",
      "v\n",
      "r\n",
      "a\n",
      "t\n",
      " \n",
      "d\n",
      "u\n",
      "b\n",
      "e\n",
      "y\n"
     ]
    }
   ],
   "source": [
    "#while loop\n",
    "myname=\"devvrat dubey\"\n",
    "n=len(myname)\n",
    "i=0\n",
    "while i<n:\n",
    "    print(myname[i])\n",
    "    i=i+1\n",
    "\"\"\" here  you have to first calculate the failing condition.\n",
    "initialization need to be done\n",
    "and we have decide the increment also\"\"\""
   ]
  },
  {
   "cell_type": "markdown",
   "id": "880d5876-bcb0-4b89-b48f-f4a3d85f150e",
   "metadata": {},
   "source": [
    "q2 answer"
   ]
  },
  {
   "cell_type": "code",
   "execution_count": 4,
   "id": "0a419e85-55df-4735-951b-70e386466b46",
   "metadata": {},
   "outputs": [
    {
     "name": "stdout",
     "output_type": "stream",
     "text": [
      "The sum of first 10 natural numbers are 55\n",
      "The product of first 10 natural numbers are 3628800\n"
     ]
    }
   ],
   "source": [
    "#sum and product of first 10 natural numbers by using for loop\n",
    "total=0\n",
    "multi=1\n",
    "for i in range(1,11):\n",
    "    total=total+i\n",
    "    multi=multi*i\n",
    "print(f\"The sum of first 10 natural numbers are {total}\")\n",
    "print(f\"The product of first 10 natural numbers are {multi}\")\n",
    "    "
   ]
  },
  {
   "cell_type": "code",
   "execution_count": 5,
   "id": "9a4ee316-32fa-4a9b-bff7-340900e3cc58",
   "metadata": {},
   "outputs": [
    {
     "name": "stdout",
     "output_type": "stream",
     "text": [
      "The sum of first 10 natural numbers are 55\n",
      "The product of first 10 natural numbers are 3628800\n"
     ]
    }
   ],
   "source": [
    "##sum and product of first 10 natural numbers by using while loop\n",
    "totalsum=0\n",
    "multinatural=1\n",
    "i=1\n",
    "while i<=10:\n",
    "    totalsum=totalsum+i\n",
    "    multinatural=multinatural*i\n",
    "    i=i+1\n",
    "print(f\"The sum of first 10 natural numbers are {totalsum}\")\n",
    "print(f\"The product of first 10 natural numbers are {multinatural}\")"
   ]
  },
  {
   "cell_type": "code",
   "execution_count": null,
   "id": "524e424a-3f01-49d3-a908-d1c8787529a7",
   "metadata": {},
   "outputs": [],
   "source": [
    "q3 answer"
   ]
  },
  {
   "cell_type": "code",
   "execution_count": 11,
   "id": "a7cb3431-0494-43f2-b2b3-5fc988cb366c",
   "metadata": {},
   "outputs": [
    {
     "name": "stdin",
     "output_type": "stream",
     "text": [
      "no of units of electricity consumed this month\t 150\n"
     ]
    },
    {
     "name": "stdout",
     "output_type": "stream",
     "text": [
      "Your monthly bill is 750.0\n"
     ]
    }
   ],
   "source": [
    "#electricity bill for a household\n",
    "a=float(input(\"no of units of electricity consumed this month\\t\"))\n",
    "if a<=100:\n",
    "    billamount=4.5*a\n",
    "elif a<=200:\n",
    "    billamount=(a-100)*6+100*4.5\n",
    "elif a<=300:\n",
    "    billamount=(a-200)*10+100*6+100*4.5\n",
    "else:\n",
    "    billamount=(a-300)*20+100*10+100*6+100*4.5\n",
    "print(f\"Your monthly bill is {billamount}\")\n"
   ]
  },
  {
   "cell_type": "markdown",
   "id": "0fba0b4f-5c47-4b21-b1f7-927e05a8a0be",
   "metadata": {},
   "source": [
    "q4 answer"
   ]
  },
  {
   "cell_type": "code",
   "execution_count": 18,
   "id": "193138b6-767f-4ffa-a61d-f97387ff2b15",
   "metadata": {},
   "outputs": [
    {
     "name": "stdout",
     "output_type": "stream",
     "text": [
      "[8, 64, 125, 216, 512, 1000, 1728, 2744, 3375, 4096, 5832, 8000, 10648, 13824, 15625, 17576, 21952, 27000, 32768, 39304, 42875, 46656, 54872, 64000, 74088, 85184, 91125, 97336, 110592, 125000, 140608, 157464, 166375, 175616, 195112, 216000, 238328, 262144, 274625, 287496, 314432, 343000, 373248, 405224, 421875, 438976, 474552, 512000, 551368, 592704, 614125, 636056, 681472, 729000, 778688, 830584, 857375, 884736, 941192, 1000000]\n"
     ]
    }
   ],
   "source": [
    "#using for loop\n",
    "a=list(range(1,101))\n",
    "b=[]\n",
    "c=[]\n",
    "for i in a:\n",
    "    b.append(i**3)  #the cube of 1 to 100 numbers appended in b\n",
    "for j in b:\n",
    "    if j%4==0 or j%5==0:  # if th numbers in b are divsible by 4 or 5 then it will be appended in c\n",
    "        c.append(j)\n",
    "print(c)"
   ]
  },
  {
   "cell_type": "code",
   "execution_count": 22,
   "id": "78dc8d48-f1df-4bd2-b74b-8cc664a8948d",
   "metadata": {},
   "outputs": [
    {
     "name": "stdout",
     "output_type": "stream",
     "text": [
      "[8, 64, 125, 216, 512, 1000, 1728, 2744, 3375, 4096, 5832, 8000, 10648, 13824, 15625, 17576, 21952, 27000, 32768, 39304, 42875, 46656, 54872, 64000, 74088, 85184, 91125, 97336, 110592, 125000, 140608, 157464, 166375, 175616, 195112, 216000, 238328, 262144, 274625, 287496, 314432, 343000, 373248, 405224, 421875, 438976, 474552, 512000, 551368, 592704, 614125, 636056, 681472, 729000, 778688, 830584, 857375, 884736, 941192, 1000000]\n"
     ]
    }
   ],
   "source": [
    "# by using while loop\n",
    "a=list(range(1,101))\n",
    "b=[]\n",
    "c=[]\n",
    "i=0\n",
    "j=0\n",
    "while i<len(a):\n",
    "    b.append(a[i]**3)  #the cube of 1 to 100 numbers appended in b\n",
    "    i=i+1\n",
    "while j<len(b):\n",
    "    if b[j]%4==0 or b[j]%5==0:\n",
    "        c.append(b[j])\n",
    "    j=j+1\n",
    "print(c)"
   ]
  },
  {
   "cell_type": "markdown",
   "id": "f01e7644-c5cb-4783-b9d3-956506da0460",
   "metadata": {},
   "source": [
    "q5 answer"
   ]
  },
  {
   "cell_type": "code",
   "execution_count": 26,
   "id": "65ad70e4-92f3-4670-9c18-b3a53a4f4d70",
   "metadata": {},
   "outputs": [
    {
     "name": "stdout",
     "output_type": "stream",
     "text": [
      "the vowel i has a  count of 3\n",
      "the vowel a has a  count of 4\n",
      "the vowel o has a  count of 2\n",
      "the vowel e has a  count of 3\n"
     ]
    }
   ],
   "source": [
    "string=\"I want to become a datascientist\"\n",
    "x=string.lower()\n",
    "d={}\n",
    "vowels=[\"a\",\"e\",\"i\",\"o\",\"u\"]\n",
    "for i in x:\n",
    "    if i in vowels:\n",
    "        d[i]=x.count(i)\n",
    "for key,value in d.items():\n",
    "    print(f\"the vowel {key} has a  count of {value}\")\n",
    "        "
   ]
  },
  {
   "cell_type": "code",
   "execution_count": null,
   "id": "3bad6839-5102-468d-9a3e-c3577ae6fe4c",
   "metadata": {},
   "outputs": [],
   "source": []
  },
  {
   "cell_type": "code",
   "execution_count": null,
   "id": "19c1a304-5cd2-4adc-8674-460ce7a00f42",
   "metadata": {},
   "outputs": [],
   "source": []
  },
  {
   "cell_type": "code",
   "execution_count": null,
   "id": "7fc8c2c4-8eab-41b6-a057-47c9ccefe249",
   "metadata": {},
   "outputs": [],
   "source": []
  },
  {
   "cell_type": "code",
   "execution_count": null,
   "id": "8f459a14-8cf4-4096-9a50-0ef9e7fad385",
   "metadata": {},
   "outputs": [],
   "source": []
  }
 ],
 "metadata": {
  "kernelspec": {
   "display_name": "Python 3 (ipykernel)",
   "language": "python",
   "name": "python3"
  },
  "language_info": {
   "codemirror_mode": {
    "name": "ipython",
    "version": 3
   },
   "file_extension": ".py",
   "mimetype": "text/x-python",
   "name": "python",
   "nbconvert_exporter": "python",
   "pygments_lexer": "ipython3",
   "version": "3.10.8"
  }
 },
 "nbformat": 4,
 "nbformat_minor": 5
}
